{
 "cells": [
  {
   "cell_type": "code",
   "execution_count": 1,
   "metadata": {},
   "outputs": [],
   "source": [
    "import akshare as ak\n",
    "import pandas as pd \n",
    "pd.set_option('display.max_rows', None)\n",
    "from tqdm import tqdm \n",
    "import datetime\n",
    "dt = datetime.datetime.now().strftime('%Y%m%d')"
   ]
  },
  {
   "cell_type": "code",
   "execution_count": 2,
   "metadata": {},
   "outputs": [
    {
     "name": "stderr",
     "output_type": "stream",
     "text": [
      "100%|██████████| 822/822 [02:00<00:00,  6.82it/s]\n"
     ]
    }
   ],
   "source": [
    "\n",
    "m1=pd.read_csv('F:\\\\cell\\\\tempFile\\\\m1\\\\20220120145444.csv',dtype = str)\n",
    "us_stock_current_df = ak.stock_us_spot_em()\n",
    "us_stock_current_df['code567']=us_stock_current_df['代码'].apply(lambda x:x.split('.')[0])\n",
    "us_stock_current_df['codeShort']=us_stock_current_df['代码'].apply(lambda x:x.split('.')[1])\n",
    "us_stock_List = us_stock_current_df.merge(m1,how='inner',left_on='codeShort',right_on='代码')[['代码_x','code567','codeShort']]\n",
    "\n",
    "\n",
    "def macd(df):\n",
    "    df['short'] = df['收盘'].ewm(span=12, adjust=False).mean()\n",
    "    df['long'] = df['收盘'].ewm(span=26, adjust=False).mean()\n",
    "    df['dif'] = df['short'] - df['long']\n",
    "    df['dea'] = df['dif'].ewm(span=9, adjust=False).mean()\n",
    "    df['macd'] = (df['dif'] - df['dea']) * 2\n",
    "    return(df)\n",
    "\n",
    "eL =[]\n",
    "\n",
    "for x in tqdm(us_stock_List['代码_x'].values):\n",
    "\n",
    "    \n",
    "    try:\n",
    "        data = ak.stock_us_hist(symbol=x, start_date=\"20210101\", end_date=\"20320118\", adjust=\"qfq\")\n",
    "        data['which'] = x\n",
    "        data1 = macd(data)\n",
    "        eL.append(data1) \n",
    "    except:\n",
    "        print(x) \n",
    "\n",
    "bb = pd.concat(eL)\n",
    "bb.to_csv('F:\\\\cell\\\\tempFile\\\\m1\\\\csvFile\\\\usList_{0}.csv'.format(dt))\n",
    " "
   ]
  }
 ],
 "metadata": {
  "interpreter": {
   "hash": "2c2a31897e6d477c9ef06cd0c8b86b2ebbb1a23ce994d35919dbf712b4b86567"
  },
  "kernelspec": {
   "display_name": "Python 3.8.12 64-bit ('larry': conda)",
   "language": "python",
   "name": "python3"
  },
  "language_info": {
   "codemirror_mode": {
    "name": "ipython",
    "version": 3
   },
   "file_extension": ".py",
   "mimetype": "text/x-python",
   "name": "python",
   "nbconvert_exporter": "python",
   "pygments_lexer": "ipython3",
   "version": "3.8.12"
  },
  "orig_nbformat": 4
 },
 "nbformat": 4,
 "nbformat_minor": 2
}
